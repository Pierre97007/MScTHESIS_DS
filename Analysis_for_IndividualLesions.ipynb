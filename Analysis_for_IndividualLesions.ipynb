{
 "cells": [
  {
   "cell_type": "code",
   "execution_count": null,
   "metadata": {},
   "outputs": [],
   "source": [
    "import pandas as pd\n",
    "import seaborn as sns\n",
    "import matplotlib.pyplot as plt\n",
    "import numpy as np"
   ]
  },
  {
   "cell_type": "code",
   "execution_count": null,
   "metadata": {},
   "outputs": [],
   "source": [
    "# Read in the data for processed tumor volume for each lesion:\n",
    "df = pd.read_csv('processed.volumes.lesions.csv')\n",
    "\n",
    "# Split name cases\n",
    "df['Case.Patient'] = df['Case'].apply(lambda x: x.split('_')[0])\n",
    "\n",
    "df['Case.Date'] = df['Case'].apply(lambda x: x.split('_')[1])\n",
    "df['Case.Date'] = pd.to_datetime(df['Case.Date'], format='%Y%m%d')\n",
    "\n",
    "df['Case.Scan'] = df['Case'].apply(lambda x: '_'.join(x.split('_')[2:]))\n",
    "\n",
    "df = df.drop(columns=['Case'])\n",
    "\n",
    "# Adapt volume to mL instead of mm^3\n",
    "df['Volume'] = df['Volume'] / 1000\n",
    "\n",
    "df = df.drop(columns=['PhysicalCoordinateSagittal', 'PhysicalCoordinateCoronal', 'PhysicalCoordinateTransverse', 'VoxelCoordinateSagittal',\t\n",
    "                      'VoxelCoordinateCoronal', 'VoxelCoordinateTransverse'])\n",
    "\n",
    "start_df = df\n",
    "volume_df = df\n",
    "start_df"
   ]
  },
  {
   "cell_type": "code",
   "execution_count": null,
   "metadata": {},
   "outputs": [],
   "source": [
    "# Group by patient_id and find the last check-up date for each patient\n",
    "last_check_up_dates = volume_df.groupby('Case.Patient')['Case.Date'].max().reset_index()\n",
    "last_check_up_dates"
   ]
  },
  {
   "cell_type": "code",
   "execution_count": null,
   "metadata": {},
   "outputs": [],
   "source": [
    "df = df.dropna(subset=['Lesion.ID'])\n",
    "df"
   ]
  },
  {
   "cell_type": "markdown",
   "metadata": {},
   "source": [
    "## Total Volume Analysis\n"
   ]
  },
  {
   "cell_type": "code",
   "execution_count": null,
   "metadata": {},
   "outputs": [],
   "source": [
    "import numpy as np\n",
    "\n",
    "# We dont need the coordinates at this stage, so we can remove them safely\n",
    "# df = df.drop(columns=['CoordinateSagittal', 'CoordinateCoronal', 'CoordinateTransverse'])\n",
    "\n",
    "# Compute total volume and range for each patient and date\n",
    "df = df.groupby(['Lesion.ID', 'Case.Date', 'Case.Scan']).sum().reset_index()\n",
    "df = df.drop(columns='Case.Scan')\n",
    "df = df.groupby(['Lesion.ID', 'Case.Date']).agg(\n",
    "    Volume_Mean=('Volume', 'mean'),\n",
    "    Volume_Range=('Volume', lambda x: np.nan if x.size == 1 else x.max() - x.min())\n",
    ").reset_index()\n",
    "df = df.rename(columns={'Volume_Mean': 'Volume.Mean', 'Volume_Range': 'Volume.Range'})\n",
    "\n",
    "df"
   ]
  },
  {
   "cell_type": "markdown",
   "metadata": {},
   "source": [
    "## Build an interval dataset\n"
   ]
  },
  {
   "cell_type": "code",
   "execution_count": null,
   "metadata": {},
   "outputs": [],
   "source": [
    "# Convert Case.Date to datetime\n",
    "df['Case.Date'] = pd.to_datetime(df['Case.Date'])\n",
    "\n",
    "# Sort by Case.Patient and Case.Date\n",
    "df = df.sort_values(by=['Lesion.ID', 'Case.Date'])\n",
    "\n",
    "# Create shifted columns for pairs\n",
    "df['Case.Date.End'] = df.groupby('Lesion.ID')['Case.Date'].shift(-1)\n",
    "df['Volume.Mean.End'] = df.groupby('Lesion.ID')['Volume.Mean'].shift(-1)\n",
    "\n",
    "\n",
    "# Rename original columns for clarity\n",
    "df.rename(columns={\n",
    "    'Case.Date': 'Case.Date.Start',\n",
    "}, inplace=True)\n",
    "\n",
    "# Drop rows where Case.Date.End is NaN (the last entry for each patient)\n",
    "df = df.dropna(subset=['Case.Date.End'])\n",
    "\n",
    "# Select and reorder relevant columns\n",
    "# df = df[['Case.Patient', 'Case.Date.Start', 'Case.Date.End', 'Volume.Mean.Start', 'Volume.Mean.End', 'Volume.Range.Start', 'Volume.Range.End']]\n",
    "\n",
    "df"
   ]
  },
  {
   "cell_type": "code",
   "execution_count": null,
   "metadata": {},
   "outputs": [],
   "source": [
    "# create lesion Id to track each lesion\n",
    "df.insert(0, 'ID', range(1, 1 + len(df)))\n",
    "anon_df = df.merge(start_df[['Case.Patient', 'Lesion.ID']], on='Lesion.ID', how='left')\n",
    "df = anon_df.drop_duplicates(subset=['ID']).drop(columns=['ID'])\n",
    "# an[an['Lesion.ID'] == 112]\n",
    "df"
   ]
  },
  {
   "cell_type": "markdown",
   "metadata": {},
   "source": [
    "## Load Treatment data"
   ]
  },
  {
   "cell_type": "code",
   "execution_count": null,
   "metadata": {},
   "outputs": [],
   "source": [
    "# load treatment data\n",
    "treatment = pd.read_excel('W_23_5814_2024-03-06.xlsx', sheet_name='Oncolytica')\n",
    "\n",
    "# filter on the treatment of interest\n",
    "treatment = treatment.loc[treatment['ATC_CODE'].apply(lambda x: str(x).startswith('L01') or str(x).startswith('L02'))]\n",
    "treatment = treatment.loc[treatment['ISLAATST']]\n",
    "treatment = treatment.loc[treatment['DOSERING'].apply(lambda x:'per dag 0' not in str(x))]\n",
    "\n",
    "# select columns of interest \n",
    "treatment = treatment[['PATIENTNR', 'VOORSCHRIJFDATUM', 'VOORSCHRIJFEINDDATUM']]\n",
    "treatment.rename(columns={'PATIENTNR': 'Case.Patient', 'VOORSCHRIJFDATUM': 'Treatment.Start', 'VOORSCHRIJFEINDDATUM': 'Treatment.End'}, inplace=True)\n",
    "\n",
    "# laod surgery data\n",
    "surgery = pd.read_excel('W_23_5814_2024-03-06.xlsx', sheet_name='Surgery')\n",
    "\n",
    "# filter on the ones for the liver: *lever*, *embolisatie* \n",
    "surgery = surgery.loc[surgery['OKVR_Verrichting_omschrijving'].apply(lambda x: 'lever' in str(x).lower() or 'embolisatie' in str(x).lower() or 'rfa' in str(x).lower())]\n",
    "\n",
    "# select columns of interest\n",
    "surgery = surgery[['PATIENTNR', 'OK_Operatiedatum']]\n",
    "surgery.rename(columns={'PATIENTNR': 'Case.Patient', 'OK_Operatiedatum': 'Treatment.Start'}, inplace=True)\n",
    "surgery['Treatment.End'] = surgery['Treatment.Start']\n",
    "\n",
    "# merge treatment and surgery data as intervention data\n",
    "# surgery date becomes the start and end of the intervention\n",
    "intervention = pd.concat([treatment, surgery], axis=0, ignore_index=True).reset_index(drop=True)\n",
    "\n",
    "# load patient ID keys for anonymization\n",
    "keys = pd.read_csv('20230926 JADS Export Report Patients.csv')\n",
    "\n",
    "# use anonymization keys to replace patient IDs\n",
    "keys = keys.loc[~(keys['Patient ID'] == '20401820xxx187484')]\n",
    "keys['Patient ID'] = keys['Patient ID'].astype(int)\n",
    "\n",
    "intervention = pd.merge(intervention, keys, left_on='Case.Patient', right_on='Patient ID', how='left')\n",
    "intervention = intervention.drop(columns=['Case.Patient', 'Patient ID'])\n",
    "intervention.rename(columns={'Anonymized Name': 'Case.Patient'}, inplace=True)\n",
    "\n",
    "intervention"
   ]
  },
  {
   "cell_type": "markdown",
   "metadata": {},
   "source": [
    "## add treatment interval indicator"
   ]
  },
  {
   "cell_type": "code",
   "execution_count": null,
   "metadata": {},
   "outputs": [],
   "source": [
    "# Convert Case.Date.Start and Case.Date.End to datetime\n",
    "df['Case.Date.Start'] = pd.to_datetime(df['Case.Date.Start'])\n",
    "df['Case.Date.End'] = pd.to_datetime(df['Case.Date.End'])\n",
    "\n",
    "# Convert Treatment.Start and Treatment.End to datetime\n",
    "intervention['Treatment.Start'] = pd.to_datetime(intervention['Treatment.Start'])\n",
    "intervention['Treatment.End'] = pd.to_datetime(intervention['Treatment.End'])\n",
    "\n",
    "# Function to check if treatment interval overlaps with case interval\n",
    "def check_overlap(row, treatment_df):\n",
    "    patient = row['Case.Patient']\n",
    "    start = row['Case.Date.Start']\n",
    "    end = row['Case.Date.End']\n",
    "    treatment_intervals = treatment_df[treatment_df['Case.Patient'] == patient]\n",
    "    for _, treatment in treatment_intervals.iterrows():\n",
    "        if (treatment['Treatment.Start'] <= end) and (treatment['Treatment.End'] >= start):\n",
    "            return True\n",
    "    return False\n",
    "\n",
    "# Apply the function to each row in df to create the indicator column\n",
    "df['Treatment.Indicator'] = df.apply(lambda row: check_overlap(row, intervention), axis=1)\n",
    "\n",
    "df"
   ]
  },
  {
   "cell_type": "markdown",
   "metadata": {},
   "source": [
    "## Filter lesions on Non-treatment vs Treatment Interval"
   ]
  },
  {
   "cell_type": "code",
   "execution_count": null,
   "metadata": {},
   "outputs": [],
   "source": [
    "dfnotreatment =  df[df['Treatment.Indicator'] == False]\n",
    "dfnotreatment = dfnotreatment.drop(columns=['Treatment.Indicator'])\n",
    "dfnotreatment\n"
   ]
  },
  {
   "cell_type": "code",
   "execution_count": null,
   "metadata": {},
   "outputs": [],
   "source": [
    "dftreatment =  df[(df['Treatment.Indicator'] == True)]\n",
    "dftreatment = dftreatment.drop(columns=['Treatment.Indicator'])\n",
    "dftreatment"
   ]
  },
  {
   "cell_type": "markdown",
   "metadata": {},
   "source": [
    "## Ensuring Continuity of Treatment Periods in Patient Data"
   ]
  },
  {
   "cell_type": "markdown",
   "metadata": {},
   "source": [
    "### No treatment period"
   ]
  },
  {
   "cell_type": "code",
   "execution_count": null,
   "metadata": {},
   "outputs": [],
   "source": [
    "df = pd.DataFrame(dfnotreatment)\n",
    "df['Case.Date.Start'] = pd.to_datetime(df['Case.Date.Start'])\n",
    "df['Case.Date.End'] = pd.to_datetime(df['Case.Date.End'])\n",
    "\n",
    "# Find missing end dates and add them as new rows ensuring continuity\n",
    "new_rows = []\n",
    "\n",
    "for group_id in df['Lesion.ID'].unique():\n",
    "    group_df = df[df['Lesion.ID'] == group_id]\n",
    "    end_dates = group_df['Case.Date.End'].tolist()\n",
    "    start_dates = group_df['Case.Date.Start'].tolist()\n",
    "    \n",
    "    for end_date in end_dates:\n",
    "        if end_date not in start_dates:\n",
    "            volume_end = group_df[group_df['Case.Date.End'] == end_date]['Volume.Mean.End'].values[0]\n",
    "            new_row = {\n",
    "                'Case.Date.Start': end_date,\n",
    "                'Case.Date.End': pd.NaT,  # No end date for the new row\n",
    "                'Volume.Mean.Start': volume_end,\n",
    "                'Volume.Mean.End': pd.NaT,  # No volume end for the new row\n",
    "                'Lesion.ID': group_id\n",
    "            }\n",
    "            new_rows.append(new_row)\n",
    "\n",
    "# Append new rows to the original DataFrame using pd.concat\n",
    "new_rows_df = pd.DataFrame(new_rows)\n",
    "df = pd.concat([df, new_rows_df], ignore_index=True)\n",
    "\n",
    "# Sort the DataFrame by Group.ID and Start Date\n",
    "dfnt = df.sort_values(by=['Lesion.ID', 'Case.Date.Start']).reset_index(drop=True)\n",
    "\n",
    "dfnt"
   ]
  },
  {
   "cell_type": "code",
   "execution_count": null,
   "metadata": {},
   "outputs": [],
   "source": [
    "final_dfnotreatment = dfnt[['Lesion.ID', 'Case.Date.Start','Volume.Mean','Volume.Mean.Start']]\n",
    "final_dfnotreatment['volume_combined'] = final_dfnotreatment['Volume.Mean'].combine_first(final_dfnotreatment['Volume.Mean.Start'])\n",
    "final_dfnotreatment.drop(columns=['Volume.Mean', 'Volume.Mean.Start'], inplace=True)\n",
    "final_dfnotreatment"
   ]
  },
  {
   "cell_type": "markdown",
   "metadata": {},
   "source": [
    "### Convert to CSV"
   ]
  },
  {
   "cell_type": "code",
   "execution_count": null,
   "metadata": {},
   "outputs": [],
   "source": [
    "#This csv file will be used in R for the 'tumgr' library\n",
    "final_dfnotreatment.to_csv('grouped_lesions_nt.csv', index=False)"
   ]
  },
  {
   "cell_type": "markdown",
   "metadata": {},
   "source": [
    "### Treatment period"
   ]
  },
  {
   "cell_type": "code",
   "execution_count": null,
   "metadata": {},
   "outputs": [],
   "source": [
    "df = pd.DataFrame(dftreatment)\n",
    "df['Case.Date.Start'] = pd.to_datetime(df['Case.Date.Start'])\n",
    "df['Case.Date.End'] = pd.to_datetime(df['Case.Date.End'])\n",
    "\n",
    "# Find missing end dates and add them as new rows ensuring continuity\n",
    "new_rows = []\n",
    "\n",
    "for group_id in df['Lesion.ID'].unique():\n",
    "    group_df = df[df['Lesion.ID'] == group_id]\n",
    "    end_dates = group_df['Case.Date.End'].tolist()\n",
    "    start_dates = group_df['Case.Date.Start'].tolist()\n",
    "    \n",
    "    for end_date in end_dates:\n",
    "        if end_date not in start_dates:\n",
    "            volume_end = group_df[group_df['Case.Date.End'] == end_date]['Volume.Mean.End'].values[0]\n",
    "            new_row = {\n",
    "                'Case.Date.Start': end_date,\n",
    "                'Case.Date.End': pd.NaT,  # No end date for the new row\n",
    "                'Volume.Mean.Start': volume_end,\n",
    "                'Volume.Mean.End': pd.NaT,  # No volume end for the new row\n",
    "                'Lesion.ID': group_id\n",
    "            }\n",
    "            new_rows.append(new_row)\n",
    "\n",
    "# Append new rows to the original DataFrame using pd.concat\n",
    "new_rows_df = pd.DataFrame(new_rows)\n",
    "df = pd.concat([df, new_rows_df], ignore_index=True)\n",
    "\n",
    "# Sort the DataFrame by Group.ID and Start Date\n",
    "dft = df.sort_values(by=['Lesion.ID', 'Case.Date.Start']).reset_index(drop=True)\n",
    "\n",
    "dft"
   ]
  },
  {
   "cell_type": "code",
   "execution_count": null,
   "metadata": {},
   "outputs": [],
   "source": [
    "final_dftreatment = dft[['Lesion.ID', 'Case.Date.Start','Volume.Mean','Volume.Mean.Start']]\n",
    "final_dftreatment['volume_combined'] = final_dftreatment['Volume.Mean'].combine_first(final_dftreatment['Volume.Mean.Start'])\n",
    "final_dftreatment.drop(columns=['Volume.Mean', 'Volume.Mean.Start'], inplace=True)\n",
    "final_dftreatment"
   ]
  },
  {
   "cell_type": "code",
   "execution_count": null,
   "metadata": {},
   "outputs": [],
   "source": [
    "#This csv file will be used in R for the 'tumgr' library\n",
    "final_dftreatment.to_csv('grouped_lesions_t_interval.csv', index=False)"
   ]
  },
  {
   "cell_type": "markdown",
   "metadata": {},
   "source": [
    "## Tumor Grades"
   ]
  },
  {
   "cell_type": "code",
   "execution_count": null,
   "metadata": {},
   "outputs": [],
   "source": [
    "# Reading in tumor-grades data from the Tumor sheet data\n",
    "tumordata = pd.read_excel('W_23_5814_2024-03-06.xlsx', sheet_name='Tumor')\n",
    "tumorgrades = tumordata[['PATIENTNR', 'TRTU_Morfologie_oms']]\n",
    "\n",
    "# # use anonymization keys to replace patient IDs\n",
    "keys = keys.loc[~(keys['Patient ID'] == '20401820xxx187484')]\n",
    "keys['Patient ID'] = keys['Patient ID'].astype(int)\n",
    "tumorgrades = pd.merge(tumorgrades, keys, left_on='PATIENTNR', right_on='Patient ID', how='left')\n",
    "tumorgrades = tumorgrades.drop(columns=['PATIENTNR', 'Patient ID'])\n",
    "tumorgrades.rename(columns={'Anonymized Name': 'Case.Patient'}, inplace=True)\n",
    "\n",
    "# Split the morfologie column into 'type' and 'tumorgrade'\n",
    "tumorgrades[['type', 'tumorgrade']] = tumorgrades['TRTU_Morfologie_oms'].str.split(', ', expand=True)\n",
    "\n",
    "# Drop the original 'full_name' column if you no longer need it\n",
    "tumorgrades.drop(columns=['TRTU_Morfologie_oms'], inplace=True)\n",
    "tumorgrades"
   ]
  },
  {
   "cell_type": "markdown",
   "metadata": {},
   "source": [
    "# Growth rates Max, Mean and Range G"
   ]
  },
  {
   "cell_type": "code",
   "execution_count": null,
   "metadata": {},
   "outputs": [],
   "source": [
    "tumorgrowth = pd.read_csv('results_lesions_nt.csv')\n",
    "# tumorgrowth = tumorgrowth[(tumorgrowth['d'].isna()) & (tumorgrowth['phi'].isna())]\n",
    "tumorgrowth = tumorgrowth.dropna(subset=['g'])\n",
    "tumorgrowth"
   ]
  },
  {
   "cell_type": "code",
   "execution_count": null,
   "metadata": {},
   "outputs": [],
   "source": [
    "max_value_index = tumorgrowth['g'].idxmax()\n",
    "# Drop the row with the maximum value\n",
    "tumorgrowth = tumorgrowth.drop(index=max_value_index)\n",
    "tumorgrowth"
   ]
  },
  {
   "cell_type": "code",
   "execution_count": null,
   "metadata": {},
   "outputs": [],
   "source": [
    "growthrates = dfnotreatment[['Case.Patient', 'Lesion.ID']].merge(tumorgrowth, left_on='Lesion.ID', right_on='name', how='left')\n",
    "growthrates = growthrates.drop(columns=['name', 'N', 'type', 'selectedFit']).dropna(subset=['g'])\n",
    "# growthrates = growthrates.groupby('Lesion.ID')[['g', 'd', 'phi']].mean().reset_index()\n",
    "\n",
    "# #merging growthrates with the grades\n",
    "gandgrade = growthrates.merge(tumorgrades[['Case.Patient', 'tumorgrade']], on='Case.Patient', how='left')\n",
    "gandgrade = gandgrade.drop_duplicates(subset=['Lesion.ID'])\n",
    "# Remove white space from the 'Category' column\n",
    "gandgrade['tumorgrade'] = gandgrade['tumorgrade'].str.strip()\n",
    "gandgrade1 = gandgrade\n",
    "gandgrade1['tumorgrade'] = gandgrade1['tumorgrade'].replace({'NNO': 'graad 3'})\n",
    "gandgrade['tumorgrade'] = gandgrade['tumorgrade'].replace({'NNO': 'graad 3'})\n",
    "gandgrade"
   ]
  },
  {
   "cell_type": "code",
   "execution_count": null,
   "metadata": {},
   "outputs": [],
   "source": [
    "# aggregate the dataset in order to get max growth, mean growth and range growth\n",
    "agg_df = gandgrade.groupby(['Case.Patient'])['g'].agg(\n",
    "    max_g='max',\n",
    "    mean_g='mean',\n",
    "    range_g=lambda x: x.max() - x.min()\n",
    ").reset_index()\n",
    "\n",
    "gandgrade = gandgrade[['Case.Patient', 'tumorgrade']].merge(agg_df, on=['Case.Patient'])\n",
    "gandgrade.drop_duplicates(subset=['Case.Patient'], inplace=True)\n",
    "gandgrade2 = gandgrade\n",
    "gandgrade"
   ]
  },
  {
   "cell_type": "markdown",
   "metadata": {},
   "source": [
    "## Survival Analysis: Mean, Max, Range Growth Rates"
   ]
  },
  {
   "cell_type": "code",
   "execution_count": null,
   "metadata": {},
   "outputs": [],
   "source": [
    "tumordata = pd.read_excel('W_23_5814_2024-03-06.xlsx', sheet_name='Tumor')\n",
    "tumorgrades = tumordata[['PATIENTNR', 'Date_diagnosis (Stefano)', 'HiX_Date_of_death', 'TRTU_Laatste_follow_up_datum'\n",
    ",'TRTU_Patientstatus_bij_laatste_follow_up_oms']]\n",
    "tumorgrades['overleden'] = tumorgrades['TRTU_Patientstatus_bij_laatste_follow_up_oms'].str.contains('overleden', case=False, na=False)\n",
    "\n",
    "# # use anonymization keys to replace patient IDs\n",
    "keys = keys.loc[~(keys['Patient ID'] == '20401820xxx187484')]\n",
    "keys['Patient ID'] = keys['Patient ID'].astype(int)\n",
    "tumorgrades = pd.merge(tumorgrades, keys, left_on='PATIENTNR', right_on='Patient ID', how='left')\n",
    "tumorgrades = tumorgrades.drop(columns=['PATIENTNR', 'Patient ID'])\n",
    "tumorgrades.rename(columns={'Anonymized Name': 'Case.Patient'}, inplace=True)\n",
    "\n",
    "# tumorgrades.drop(columns=['TRTU_Morfologie_oms'], inplace=True)\n",
    "# merging mean, max,range growth rates with the 'end_date'\n",
    "gradesdeath = gandgrade.merge(tumorgrades, on='Case.Patient')\n",
    "gradesdeath = gradesdeath.merge(last_check_up_dates, on='Case.Patient')\n",
    "gradesdeath['end_date'] = gradesdeath['HiX_Date_of_death'].combine_first(gradesdeath['TRTU_Laatste_follow_up_datum'])\n",
    "gradesdeath['end_date'] = gradesdeath['end_date'].combine_first(gradesdeath['Case.Date'])\n",
    "gradesdeath"
   ]
  },
  {
   "cell_type": "markdown",
   "metadata": {},
   "source": [
    "## Correlation first g with mean g"
   ]
  },
  {
   "cell_type": "code",
   "execution_count": null,
   "metadata": {},
   "outputs": [],
   "source": [
    "# first g per patient\n",
    "first_lesion_per_patient = gandgrade1.groupby('Case.Patient').first().reset_index()\n",
    "\n",
    "#merging first g's wiht mean g's\n",
    "first_and_mean_g = first_lesion_per_patient.merge(gandgrade2[['Case.Patient', 'mean_g']], on='Case.Patient')\n",
    "first_and_mean_g.rename(columns={\n",
    "    'g': 'first_g',\n",
    "}, inplace=True)\n",
    "\n",
    "#correlation between first g and mean g\n",
    "correlation = first_and_mean_g['mean_g'].corr(first_and_mean_g['first_g'])\n",
    "\n",
    "print(\"Correlation between mean_g and first_g:\", correlation)\n",
    "first_and_mean_g\n"
   ]
  },
  {
   "cell_type": "markdown",
   "metadata": {},
   "source": [
    "## Kaplanmeier Max/Mean/range_g + validation with pairwise logrank"
   ]
  },
  {
   "cell_type": "code",
   "execution_count": null,
   "metadata": {},
   "outputs": [],
   "source": [
    "from lifelines import KaplanMeierFitter\n",
    "from lifelines.statistics import pairwise_logrank_test\n",
    "\n",
    "# Divide the 'max_g' column into percentiles\n",
    "growth_rate_percentiles = np.percentile(gradesdeath['max_g'], [33, 66, 99], interpolation='nearest')\n",
    "print(growth_rate_percentiles)\n",
    "\n",
    "# Prepare data for Kaplan-Meier estimator for each percentile range\n",
    "kmf = KaplanMeierFitter()\n",
    "\n",
    "# Collect all durations and event observations\n",
    "all_durations = []\n",
    "all_event_observed = []\n",
    "all_labels = []\n",
    "\n",
    "colors = ['green', 'orange', 'red']  # Define colors for each group\n",
    "\n",
    "for i, percentile in enumerate(growth_rate_percentiles):\n",
    "    if i == 0:\n",
    "        mask = gradesdeath['max_g'] <= percentile\n",
    "        label = f'<= {percentile:.3f}'\n",
    "    elif i == len(growth_rate_percentiles) - 1:\n",
    "        mask = gradesdeath['max_g'] > growth_rate_percentiles[i - 1]\n",
    "        label = f'> {growth_rate_percentiles[i - 1]:.3f}'\n",
    "    else:\n",
    "        mask = (gradesdeath['max_g'] > growth_rate_percentiles[i - 1]) & (gradesdeath['max_g'] <= percentile)\n",
    "        label = f'{growth_rate_percentiles[i - 1]:.3f}-{percentile:.3f}'\n",
    "        \n",
    "    if mask.any():  # Check if there are any data points in this range\n",
    "        durations = (gradesdeath['end_date'] - gradesdeath['Date_diagnosis (Stefano)']).dt.days[mask]\n",
    "        event_observed = gradesdeath['overleden'][mask]\n",
    "        \n",
    "        kmf.fit(durations=durations, event_observed=event_observed, label=label)\n",
    "        kmf.plot(color=colors[i])\n",
    "        \n",
    "        # Collect data for pairwise log-rank test\n",
    "        all_durations.extend(durations)\n",
    "        all_event_observed.extend(event_observed)\n",
    "        all_labels.extend([label] * len(durations))\n",
    "\n",
    "# Convert collected data to pandas Series\n",
    "all_durations = pd.Series(all_durations)\n",
    "all_event_observed = pd.Series(all_event_observed)\n",
    "all_labels = pd.Series(all_labels)\n",
    "\n",
    "# Perform pairwise log-rank test\n",
    "results = pairwise_logrank_test(all_durations, all_labels, event_observed=all_event_observed)\n",
    "print(results)\n",
    "\n",
    "# Plot settings\n",
    "plt.title('Kaplan-Meier Survival Curve by Growth Rate Percentile Max g')\n",
    "plt.xlabel('Time (days)')\n",
    "plt.ylabel('Survival Probability')\n",
    "plt.grid(True)\n",
    "plt.legend(title='Growth Rate Percentile')\n",
    "plt.show()\n"
   ]
  },
  {
   "cell_type": "code",
   "execution_count": null,
   "metadata": {},
   "outputs": [],
   "source": [
    "# Divide the 'range_g' column into percentiles\n",
    "growth_rate_percentiles = np.percentile(gradesdeath['range_g'], [33, 66, 99], interpolation='nearest')\n",
    "print(growth_rate_percentiles)\n",
    "\n",
    "# Prepare data for Kaplan-Meier estimator for each percentile range\n",
    "kmf = KaplanMeierFitter()\n",
    "\n",
    "# Collect all durations and event observations\n",
    "all_durations = []\n",
    "all_event_observed = []\n",
    "all_labels = []\n",
    "\n",
    "# Define colors for each group\n",
    "colors = ['green', 'orange', 'red']\n",
    "\n",
    "for i, percentile in enumerate(growth_rate_percentiles):\n",
    "    if i == 0:\n",
    "        mask = gradesdeath['range_g'] <= percentile\n",
    "        label = f'<= {percentile:.3f}'\n",
    "    elif i == len(growth_rate_percentiles) - 1:\n",
    "        mask = gradesdeath['range_g'] > growth_rate_percentiles[i - 1]\n",
    "        label = f'> {growth_rate_percentiles[i - 1]:.3f}'\n",
    "    else:\n",
    "        mask = (gradesdeath['range_g'] > growth_rate_percentiles[i - 1]) & (gradesdeath['range_g'] <= percentile)\n",
    "        label = f'{growth_rate_percentiles[i - 1]:.3f}-{percentile:.3f}'\n",
    "        \n",
    "    if mask.any():  # Check if there are any data points in this range\n",
    "        durations = (gradesdeath['end_date'] - gradesdeath['Date_diagnosis (Stefano)']).dt.days[mask]\n",
    "        event_observed = gradesdeath['overleden'][mask]\n",
    "        \n",
    "        kmf.fit(durations=durations, event_observed=event_observed, label=label)\n",
    "        kmf.plot(color=colors[i])\n",
    "        \n",
    "        # Collect data for pairwise log-rank test\n",
    "        all_durations.extend(durations)\n",
    "        all_event_observed.extend(event_observed)\n",
    "        all_labels.extend([label] * len(durations))\n",
    "\n",
    "# Convert collected data to pandas Series\n",
    "all_durations = pd.Series(all_durations)\n",
    "all_event_observed = pd.Series(all_event_observed)\n",
    "all_labels = pd.Series(all_labels)\n",
    "\n",
    "# Perform pairwise log-rank test\n",
    "results = pairwise_logrank_test(all_durations, all_labels, event_observed=all_event_observed)\n",
    "print(results)\n",
    "\n",
    "# Plot settings\n",
    "plt.title('Kaplan-Meier Survival Curve by Growth Rate Percentile Range g')\n",
    "plt.xlabel('Time (days)')\n",
    "plt.ylabel('Survival Probability')\n",
    "plt.grid(True)\n",
    "plt.legend(title='Growth Rate Percentile')\n",
    "plt.show()\n"
   ]
  },
  {
   "cell_type": "code",
   "execution_count": null,
   "metadata": {},
   "outputs": [],
   "source": [
    "from lifelines import KaplanMeierFitter\n",
    "from lifelines.statistics import pairwise_logrank_test\n",
    "\n",
    "# Assuming gradesdeath is your DataFrame\n",
    "gradesdeath['HiX_Date_of_death'].fillna(pd.Timestamp.now(), inplace=True)  # Replace NaN with current date for patients who are still alive\n",
    "\n",
    "# Divide the 'mean_g' column into percentiles\n",
    "growth_rate_percentiles = np.percentile(gradesdeath['mean_g'], [33, 66, 99], interpolation='nearest')\n",
    "print(growth_rate_percentiles)\n",
    "\n",
    "# Prepare data for Kaplan-Meier estimator for each percentile range\n",
    "kmf = KaplanMeierFitter()\n",
    "\n",
    "# Collect all durations and event observations\n",
    "all_durations = []\n",
    "all_event_observed = []\n",
    "all_labels = []\n",
    "\n",
    "colors = ['green', 'orange', 'red']  # Define colors for each group\n",
    "for i, percentile in enumerate(growth_rate_percentiles):\n",
    "    if i == 0:\n",
    "        mask = gradesdeath['mean_g'] <= percentile\n",
    "        label = f'<= {percentile:.3f}'\n",
    "    elif i == len(growth_rate_percentiles) - 1:\n",
    "        mask = gradesdeath['mean_g'] > growth_rate_percentiles[i - 1]\n",
    "        label = f'> {growth_rate_percentiles[i - 1]:.3f}'\n",
    "    else:\n",
    "        mask = (gradesdeath['mean_g'] > growth_rate_percentiles[i - 1]) & (gradesdeath['mean_g'] <= percentile)\n",
    "        label = f'{growth_rate_percentiles[i - 1]:.3f}-{percentile:.3f}'\n",
    "        \n",
    "    if mask.any():  # Check if there are any data points in this range\n",
    "        durations = (gradesdeath['end_date'] - gradesdeath['Date_diagnosis (Stefano)']).dt.days[mask]\n",
    "        event_observed = gradesdeath['overleden'][mask]\n",
    "        \n",
    "        kmf.fit(durations=durations, event_observed=event_observed, label=label)\n",
    "        kmf.plot(color=colors[i])\n",
    "    \n",
    "        # Collect data for pairwise log-rank test\n",
    "        all_durations.extend(durations)\n",
    "        all_event_observed.extend(event_observed)\n",
    "        all_labels.extend([label] * len(durations))\n",
    "\n",
    "# Convert collected data to pandas Series\n",
    "all_durations = pd.Series(all_durations)\n",
    "all_event_observed = pd.Series(all_event_observed)\n",
    "all_labels = pd.Series(all_labels)\n",
    "\n",
    "# Perform pairwise log-rank test\n",
    "results = pairwise_logrank_test(all_durations, all_labels, event_observed=all_event_observed)\n",
    "print(results)\n",
    "\n",
    "# Plot settings\n",
    "plt.title('Kaplan-Meier Survival Curve by Growth Rate Percentile mean g')\n",
    "plt.xlabel('Time (days)')\n",
    "plt.ylabel('Survival Probability')\n",
    "plt.grid(True)\n",
    "plt.legend(title='Growth Rate Percentile')\n",
    "plt.show()\n"
   ]
  },
  {
   "cell_type": "markdown",
   "metadata": {},
   "source": [
    "# Growth rates vs Grades - Non-treatment"
   ]
  },
  {
   "cell_type": "code",
   "execution_count": null,
   "metadata": {},
   "outputs": [],
   "source": [
    "tumorgrowth = pd.read_csv('results_groupedlesions_nt.csv')\n",
    "# tumorgrowth = tumorgrowth[(tumorgrowth['d'].isna()) & (tumorgrowth['phi'].isna())]\n",
    "tumorgrowth = tumorgrowth.dropna(subset=['g'])\n",
    "tumorgrowth"
   ]
  },
  {
   "cell_type": "code",
   "execution_count": null,
   "metadata": {},
   "outputs": [],
   "source": [
    "# dropping outliers\n",
    "max_value_index = tumorgrowth['g'].idxmax()\n",
    "# Drop the row with the maximum value\n",
    "tumorgrowth = tumorgrowth.drop(index=max_value_index)\n",
    "tumorgrowth"
   ]
  },
  {
   "cell_type": "code",
   "execution_count": null,
   "metadata": {},
   "outputs": [],
   "source": [
    "tumordata = pd.read_excel('W_23_5814_2024-03-06.xlsx', sheet_name='Tumor')\n",
    "tumorgrades = tumordata[['PATIENTNR', 'TRTU_Morfologie_oms']]\n",
    "\n",
    "# # use anonymization keys to replace patient IDs\n",
    "keys = keys.loc[~(keys['Patient ID'] == '20401820xxx187484')]\n",
    "keys['Patient ID'] = keys['Patient ID'].astype(int)\n",
    "tumorgrades = pd.merge(tumorgrades, keys, left_on='PATIENTNR', right_on='Patient ID', how='left')\n",
    "tumorgrades = tumorgrades.drop(columns=['PATIENTNR', 'Patient ID'])\n",
    "tumorgrades.rename(columns={'Anonymized Name': 'Case.Patient'}, inplace=True)\n",
    "\n",
    "# Split the morfologie column into 'type' and 'tumorgrade'\n",
    "tumorgrades[['type', 'tumorgrade']] = tumorgrades['TRTU_Morfologie_oms'].str.split(', ', expand=True)\n",
    "\n",
    "# Drop the original 'full_name' column if you no longer need it\n",
    "tumorgrades.drop(columns=['TRTU_Morfologie_oms'], inplace=True)\n",
    "tumorgrades"
   ]
  },
  {
   "cell_type": "code",
   "execution_count": null,
   "metadata": {},
   "outputs": [],
   "source": [
    "# Set the style of the visualization\n",
    "sns.set(style=\"whitegrid\")\n",
    "\n",
    "# Create a histogram with Seaborn\n",
    "plt.figure(figsize=(10, 6))\n",
    "sns.histplot(tumorgrowth['g'], bins=100, kde=True, color='blue', edgecolor='black')\n",
    "\n",
    "# Adding title and labels\n",
    "plt.title('Distribution of Tumor Growth Rates of all the individual lesions', fontsize=16)\n",
    "plt.xlabel('Tumor Growth Rate', fontsize=14)\n",
    "plt.ylabel('Number of Lesions', fontsize=14)\n",
    "\n",
    "# Show plot\n",
    "plt.show()"
   ]
  },
  {
   "cell_type": "markdown",
   "metadata": {},
   "source": [
    "## Validation: Growth Rates merged with Tumor Grades"
   ]
  },
  {
   "cell_type": "code",
   "execution_count": null,
   "metadata": {},
   "outputs": [],
   "source": [
    "growthrates = dfnotreatment[['Case.Patient', 'Lesion.ID']].merge(tumorgrowth, left_on='Lesion.ID', right_on='name', how='left')\n",
    "growthrates = growthrates.drop(columns=['name', 'N', 'type', 'selectedFit']).dropna(subset=['g'])\n",
    "# growthrates = growthrates.groupby('Lesion.ID')[['g', 'd', 'phi']].mean().reset_index()\n",
    "\n",
    "# #merging growthrates with the grades\n",
    "gandgrade = growthrates.merge(tumorgrades[['Case.Patient', 'tumorgrade']], on='Case.Patient', how='left')\n",
    "gandgrade = gandgrade.drop_duplicates(subset=['Lesion.ID'])\n",
    "\n",
    "# Remove white space from the 'Category' column\n",
    "gandgrade['tumorgrade'] = gandgrade['tumorgrade'].str.strip()\n",
    "# Replace values for graad 3\n",
    "gandgrade['tumorgrade'] = gandgrade['tumorgrade'].replace({'NNO': 'graad 3'})\n",
    "gandgrade\n"
   ]
  },
  {
   "cell_type": "code",
   "execution_count": null,
   "metadata": {},
   "outputs": [],
   "source": [
    "# Calculate mean growth for each group\n",
    "mean_by_grade = gandgrade.groupby('tumorgrade')['g'].mean()\n",
    "print(mean_by_grade)\n",
    "\n",
    "# Set the style of the visualization\n",
    "sns.set(style=\"whitegrid\")\n",
    "\n",
    "# Custom color palette\n",
    "palette = {\n",
    "    'graad 1': 'green',\n",
    "    'graad 2': 'orange',\n",
    "    'graad 3': 'red'\n",
    "}\n",
    "\n",
    "# Create a histogram with Seaborn\n",
    "plt.figure(figsize=(10, 6))\n",
    "sns.histplot(\n",
    "    gandgrade, \n",
    "    x='g', \n",
    "    hue='tumorgrade', \n",
    "    kde=True, \n",
    "    multiple='stack', \n",
    "    bins=100, \n",
    "    edgecolor='black', \n",
    "    palette=palette\n",
    ")\n",
    "\n",
    "# Adding title and labels\n",
    "plt.title('Distribution of Tumor Growth Rates individual lesions non-treatment intervals', fontsize=16)\n",
    "plt.xlabel('Tumor Growth Rate', fontsize=14)\n",
    "plt.ylabel('Number of patients', fontsize=14)\n",
    "\n",
    "\n",
    "plt.show()"
   ]
  },
  {
   "cell_type": "code",
   "execution_count": null,
   "metadata": {},
   "outputs": [],
   "source": [
    "# Create the boxplot\n",
    "# custom color palette\n",
    "palette = {\n",
    "    'graad 1': 'green',\n",
    "    'graad 2': 'orange',\n",
    "    'graad 3': 'red'\n",
    "}\n",
    "\n",
    "sns.boxplot(data=gandgrade, x='tumorgrade', y='g', palette=palette)\n",
    "\n",
    "# Adding title and labels\n",
    "plt.title('Distribution of Tumor Growth Rates individual lesions non-treatment intervals', fontsize=16)\n",
    "plt.xlabel('Tumor Grade', fontsize=14)\n",
    "plt.ylabel('Tumor Growth Rate', fontsize=14)"
   ]
  },
  {
   "cell_type": "markdown",
   "metadata": {},
   "source": [
    "# Growth rates vs Grades - Treatment Interval"
   ]
  },
  {
   "cell_type": "code",
   "execution_count": null,
   "metadata": {},
   "outputs": [],
   "source": [
    "tumorgrowth = pd.read_csv('results_lesions_t.csv')\n",
    "tumorgrowth.shape"
   ]
  },
  {
   "cell_type": "markdown",
   "metadata": {},
   "source": [
    "## Validation: Growth Rates merged with Tumor Grades"
   ]
  },
  {
   "cell_type": "code",
   "execution_count": null,
   "metadata": {},
   "outputs": [],
   "source": [
    "growthrates = dftreatment[['Case.Patient', 'Lesion.ID']].merge(tumorgrowth, left_on='Lesion.ID', right_on='name', how='left')\n",
    "growthrates = growthrates.drop(columns=['name', 'N', 'type', 'selectedFit'])\n",
    "\n",
    "# #merging growthrates with the grades\n",
    "gandgrade = growthrates.merge(tumorgrades[['Case.Patient', 'tumorgrade']], on='Case.Patient', how='left')\n",
    "gandgrade = gandgrade.drop_duplicates(subset=['Lesion.ID'])\n",
    "# Remove white space from the 'Category' column\n",
    "gandgrade['tumorgrade'] = gandgrade['tumorgrade'].str.strip()\n",
    "# Replace values for graad 3\n",
    "gandgrade['tumorgrade'] = gandgrade['tumorgrade'].replace({'NNO': 'graad 3'})\n",
    "gandgrade"
   ]
  },
  {
   "cell_type": "code",
   "execution_count": null,
   "metadata": {},
   "outputs": [],
   "source": [
    "# Calculate mean growth rate for each group\n",
    "mean_growth_by_grade = gandgrade.groupby('tumorgrade')['g'].mean()\n",
    "print(mean_growth_by_grade)\n",
    "\n",
    "# Custom color palette\n",
    "palette = {\n",
    "    'graad 1': 'green',\n",
    "    'graad 2': 'orange',\n",
    "    'graad 3': 'red'\n",
    "}\n",
    "\n",
    "# Create a histogram with Seaborn\n",
    "plt.figure(figsize=(10, 6))\n",
    "sns.histplot(\n",
    "    gandgrade, \n",
    "    x='g', \n",
    "    hue='tumorgrade', \n",
    "    kde=True, \n",
    "    multiple='stack', \n",
    "    bins=20, \n",
    "    edgecolor='black', \n",
    "    palette=palette\n",
    ")\n",
    "\n",
    "# Adding title and labels\n",
    "plt.title('Distribution of Tumor Growth Rates individual lesions treatment intervals', fontsize=16)\n",
    "plt.xlabel('Tumor Growth Rate', fontsize=14)\n",
    "plt.ylabel('Number of patients', fontsize=14)\n",
    "\n",
    "\n",
    "plt.show()\n"
   ]
  },
  {
   "cell_type": "code",
   "execution_count": null,
   "metadata": {},
   "outputs": [],
   "source": [
    "# Create the boxplot\n",
    "sns.boxplot(data=gandgrade, x='tumorgrade', y='g', palette=palette)\n",
    "\n",
    "# Adding title and labels\n",
    "plt.title('Distribution of Tumor Growth Rates individual lesions in treatment interval', fontsize=16)\n",
    "plt.xlabel('Tumor Grade', fontsize=14)\n",
    "plt.ylabel('Tumor Growth Rate', fontsize=14)"
   ]
  },
  {
   "cell_type": "code",
   "execution_count": null,
   "metadata": {},
   "outputs": [],
   "source": [
    "# Calculate mean decay for each group\n",
    "mean_decrease_by_grade = gandgrade.groupby('tumorgrade')['d'].mean()\n",
    "print(mean_decrease_by_grade)\n",
    "\n",
    "# custom color palette\n",
    "palette = {\n",
    "    'graad 1': 'green',\n",
    "    'graad 2': 'orange',\n",
    "    'graad 3': 'red'\n",
    "}\n",
    "\n",
    "# Create a histogram with Seaborn\n",
    "plt.figure(figsize=(10, 6))\n",
    "sns.histplot(\n",
    "    gandgrade, \n",
    "    x='d', \n",
    "    hue='tumorgrade', \n",
    "    kde=True, \n",
    "    multiple='stack', \n",
    "    bins=20, \n",
    "    edgecolor='black', \n",
    "    palette=palette\n",
    ")\n",
    "\n",
    "# Adding title and labels\n",
    "plt.title('Distribution of Tumor Decay Rates individual lesions treatment intervals', fontsize=16)\n",
    "plt.xlabel('Tumor Growth Rate', fontsize=14)\n",
    "plt.ylabel('Number of patients', fontsize=14)\n",
    "\n",
    "plt.show()\n"
   ]
  }
 ],
 "metadata": {
  "kernelspec": {
   "display_name": "base",
   "language": "python",
   "name": "python3"
  },
  "language_info": {
   "codemirror_mode": {
    "name": "ipython",
    "version": 3
   },
   "file_extension": ".py",
   "mimetype": "text/x-python",
   "name": "python",
   "nbconvert_exporter": "python",
   "pygments_lexer": "ipython3",
   "version": "3.11.8"
  }
 },
 "nbformat": 4,
 "nbformat_minor": 2
}
