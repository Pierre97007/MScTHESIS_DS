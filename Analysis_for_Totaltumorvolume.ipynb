{
 "cells": [
  {
   "cell_type": "code",
   "execution_count": null,
   "metadata": {},
   "outputs": [],
   "source": [
    "import pandas as pd\n",
    "import seaborn as sns\n",
    "import matplotlib.pyplot as plt"
   ]
  },
  {
   "cell_type": "code",
   "execution_count": null,
   "metadata": {},
   "outputs": [],
   "source": [
    "# Read in the processed tumor volume data:\n",
    "df = pd.read_csv('processed_volumes_3.csv')\n",
    "print(df.shape)\n",
    "\n",
    "# # Split name cases\n",
    "df['Case.Patient'] = df['patient_id'].apply(lambda x: x.split('\\\\')[-1])\n",
    "\n",
    "# Ensure scan_date column is converted to datetime format\n",
    "df['scan_date'] = pd.to_datetime(df['scan_date'], format='%m/%d/%Y')\n",
    "\n",
    "# Now you can use the .dt accessor to format the dates\n",
    "df['Case.Date'] = df['scan_date'].dt.strftime('%Y-%m-%d')\n",
    "\n",
    "df['Case.Scan'] = df['case_number'].apply(lambda x: '_'.join(x.split('_')[2:]))\n",
    "\n",
    "df = df.drop(columns=['case_number', 'phase', 'patient_id','scan_date', 'tumor_surface_area',\n",
    "                       'tumor_sphericity',  'tumor_volume_to_area_ratio', 'dicom_center_of_mass_x', 'dicom_center_of_mass_y', 'dicom_center_of_mass_z'])\n",
    "df = df.rename(columns={'tumor_volume': 'Volume', 'patient_center_of_mass_x': 'CoordinateSagittal', 'patient_center_of_mass_y': 'CoordinateCoronal', 'patient_center_of_mass_z':'CoordinateTransverse'})\n",
    "\n",
    "# # Adapt volume to mL instead of mm^3\n",
    "df['Volume'] = df['Volume'] / 1000\n",
    "\n",
    "# # Remove small volumes below 1mL\n",
    "df = df.loc[df['Volume'] > 1.]\n",
    "volume_df = df\n",
    "df"
   ]
  },
  {
   "cell_type": "code",
   "execution_count": null,
   "metadata": {},
   "outputs": [],
   "source": [
    "# Group by patient_id and find the last check-up date for each patient\n",
    "last_check_up_dates = volume_df.groupby('Case.Patient')['Case.Date'].max().reset_index()\n",
    "last_check_up_dates"
   ]
  },
  {
   "cell_type": "markdown",
   "metadata": {},
   "source": [
    "## Total Volume Analysis\n"
   ]
  },
  {
   "cell_type": "code",
   "execution_count": null,
   "metadata": {},
   "outputs": [],
   "source": [
    "import numpy as np\n",
    "\n",
    "# We dont need the coordinates at this stage, so we can remove them safely\n",
    "df = df.drop(columns=['CoordinateSagittal', 'CoordinateCoronal', 'CoordinateTransverse'])\n",
    "\n",
    "# Compute total volume and range for each patient and date\n",
    "df = df.groupby(['Case.Patient', 'Case.Date', 'Case.Scan']).sum().reset_index()\n",
    "df = df.drop(columns='Case.Scan')\n",
    "df = df.groupby(['Case.Patient', 'Case.Date']).agg(\n",
    "    Volume_Mean=('Volume', 'mean'),\n",
    "    Volume_Range=('Volume', lambda x: np.nan if x.size == 1 else x.max() - x.min())\n",
    ").reset_index()\n",
    "df = df.rename(columns={'Volume_Mean': 'Volume.Mean', 'Volume_Range': 'Volume.Range'})\n",
    "\n",
    "df"
   ]
  },
  {
   "cell_type": "markdown",
   "metadata": {},
   "source": [
    "## Build an interval dataset\n"
   ]
  },
  {
   "cell_type": "code",
   "execution_count": null,
   "metadata": {},
   "outputs": [],
   "source": [
    "# Convert Case.Date to datetime\n",
    "df['Case.Date'] = pd.to_datetime(df['Case.Date'])\n",
    "\n",
    "# Sort by Case.Patient and Case.Date\n",
    "df = df.sort_values(by=['Case.Patient', 'Case.Date'])\n",
    "\n",
    "# Create shifted columns for pairs\n",
    "df['Case.Date.End'] = df.groupby('Case.Patient')['Case.Date'].shift(-1)\n",
    "df['Volume.Mean.End'] = df.groupby('Case.Patient')['Volume.Mean'].shift(-1)\n",
    "df['Volume.Range.End'] = df.groupby('Case.Patient')['Volume.Range'].shift(-1)\n",
    "\n",
    "# Rename original columns for clarity\n",
    "df.rename(columns={\n",
    "    'Case.Date': 'Case.Date.Start',\n",
    "    'Volume.Mean': 'Volume.Mean.Start',\n",
    "    'Volume.Range': 'Volume.Range.Start'\n",
    "}, inplace=True)\n",
    "\n",
    "# Drop rows where Case.Date.End is NaN (the last entry for each patient)\n",
    "df = df.dropna(subset=['Case.Date.End'])\n",
    "\n",
    "# Select and reorder relevant columns\n",
    "df = df[['Case.Patient', 'Case.Date.Start', 'Case.Date.End', 'Volume.Mean.Start', 'Volume.Mean.End', 'Volume.Range.Start', 'Volume.Range.End']]\n",
    "\n",
    "df"
   ]
  },
  {
   "cell_type": "markdown",
   "metadata": {},
   "source": [
    "## Load treatment data"
   ]
  },
  {
   "cell_type": "code",
   "execution_count": null,
   "metadata": {},
   "outputs": [],
   "source": [
    "# load treatment data\n",
    "treatment = pd.read_excel('W_23_5814_2024-03-06.xlsx', sheet_name='Oncolytica')\n",
    "print('Oncolytica shape: ', treatment.shape)\n",
    "# filter on the treatment of interest\n",
    "treatment = treatment.loc[treatment['ATC_CODE'].apply(lambda x: str(x).startswith('L01') or str(x).startswith('L02'))]\n",
    "treatment = treatment.loc[treatment['ISLAATST']]\n",
    "treatment = treatment.loc[treatment['DOSERING'].apply(lambda x:'per dag 0' not in str(x))]\n",
    "\n",
    "\n",
    "# select columns of interest \n",
    "treatment = treatment[['PATIENTNR', 'VOORSCHRIJFDATUM', 'VOORSCHRIJFEINDDATUM']]\n",
    "treatment.rename(columns={'PATIENTNR': 'Case.Patient', 'VOORSCHRIJFDATUM': 'Treatment.Start', 'VOORSCHRIJFEINDDATUM': 'Treatment.End'}, inplace=True)\n",
    "\n",
    "# laod surgery data\n",
    "surgery = pd.read_excel('W_23_5814_2024-03-06.xlsx', sheet_name='Surgery')\n",
    "print('surgery shape: ', surgery.shape)\n",
    "\n",
    "# filter on the ones for the liver: *lever*, *embolisatie* \n",
    "surgery = surgery.loc[surgery['OKVR_Verrichting_omschrijving'].apply(lambda x: 'lever' in str(x).lower() or 'embolisatie' in str(x).lower() or 'rfa' in str(x).lower())]\n",
    "\n",
    "# select columns of interest\n",
    "surgery = surgery[['PATIENTNR', 'OK_Operatiedatum']]\n",
    "surgery.rename(columns={'PATIENTNR': 'Case.Patient', 'OK_Operatiedatum': 'Treatment.Start'}, inplace=True)\n",
    "surgery['Treatment.End'] = surgery['Treatment.Start']\n",
    "\n",
    "# merge treatment and surgery data as intervention data\n",
    "# surgery date becomes the start and end of the intervention\n",
    "intervention = pd.concat([treatment, surgery], axis=0, ignore_index=True).reset_index(drop=True)\n",
    "\n",
    "# load patient ID keys for anonymization\n",
    "keys = pd.read_csv('20230926 JADS Export Report Patients.csv')\n",
    "print('keys shape: ', keys.shape)\n",
    "\n",
    "# use anonymization keys to replace patient IDs\n",
    "keys = keys.loc[~(keys['Patient ID'] == '20401820xxx187484')]\n",
    "keys['Patient ID'] = keys['Patient ID'].astype(int)\n",
    "\n",
    "intervention = pd.merge(intervention, keys, left_on='Case.Patient', right_on='Patient ID', how='left')\n",
    "intervention = intervention.drop(columns=['Case.Patient', 'Patient ID'])\n",
    "intervention.rename(columns={'Anonymized Name': 'Case.Patient'}, inplace=True)\n",
    "\n",
    "intervention"
   ]
  },
  {
   "cell_type": "markdown",
   "metadata": {},
   "source": [
    "## Add treatment interval indicator"
   ]
  },
  {
   "cell_type": "code",
   "execution_count": null,
   "metadata": {},
   "outputs": [],
   "source": [
    "# Convert Case.Date.Start and Case.Date.End to datetime\n",
    "df['Case.Date.Start'] = pd.to_datetime(df['Case.Date.Start'])\n",
    "df['Case.Date.End'] = pd.to_datetime(df['Case.Date.End'])\n",
    "\n",
    "# Convert Treatment.Start and Treatment.End to datetime\n",
    "intervention['Treatment.Start'] = pd.to_datetime(intervention['Treatment.Start'])\n",
    "intervention['Treatment.End'] = pd.to_datetime(intervention['Treatment.End'])\n",
    "\n",
    "# Function to check if treatment interval overlaps with case interval\n",
    "def check_overlap(row, treatment_df):\n",
    "    patient = row['Case.Patient']\n",
    "    start = row['Case.Date.Start']\n",
    "    end = row['Case.Date.End']\n",
    "    treatment_intervals = treatment_df[treatment_df['Case.Patient'] == patient]\n",
    "    for _, treatment in treatment_intervals.iterrows():\n",
    "        if (treatment['Treatment.Start'] <= end) and (treatment['Treatment.End'] >= start):\n",
    "            return True\n",
    "    return False\n",
    "\n",
    "# Apply the function to each row in df to create the indicator column\n",
    "df['Treatment.Indicator'] = df.apply(lambda row: check_overlap(row, intervention), axis=1)\n",
    "\n",
    "df"
   ]
  },
  {
   "cell_type": "markdown",
   "metadata": {},
   "source": [
    "## Group intervals\n"
   ]
  },
  {
   "cell_type": "code",
   "execution_count": null,
   "metadata": {},
   "outputs": [],
   "source": [
    "# In order to track the same total tumor volume during treatment and non-treatment interval we create group ids\n",
    "\n",
    "# Sort by Case.Patient and Case.Date.Start\n",
    "df = df.sort_values(by=['Case.Patient', 'Case.Date.Start']).reset_index(drop=True)\n",
    "\n",
    "# Initialize group ID column\n",
    "df['Group.ID'] = 0\n",
    "current_group_id = 1\n",
    "\n",
    "# Iterate through the DataFrame to assign group IDs\n",
    "for i in range(len(df)):\n",
    "    if i == 0:\n",
    "        df.loc[i, 'Group.ID'] = current_group_id\n",
    "    else:\n",
    "        if df.loc[i, 'Case.Patient'] != df.loc[i - 1, 'Case.Patient']:\n",
    "            # New patient, start new group\n",
    "            current_group_id += 1\n",
    "            df.loc[i, 'Group.ID'] = current_group_id\n",
    "        elif df.loc[i, 'Case.Date.Start'] > df.loc[i - 1, 'Case.Date.End']:\n",
    "            # Temporal gap, start new group\n",
    "            current_group_id += 1\n",
    "            df.loc[i, 'Group.ID'] = current_group_id\n",
    "        elif df.loc[i, 'Treatment.Indicator'] != df.loc[i - 1, 'Treatment.Indicator']:\n",
    "            # Change in treatment status, start new group\n",
    "            current_group_id += 1\n",
    "            df.loc[i, 'Group.ID'] = current_group_id\n",
    "        else:\n",
    "            # Continue the current group\n",
    "            df.loc[i, 'Group.ID'] = current_group_id\n",
    "\n",
    "df"
   ]
  },
  {
   "cell_type": "markdown",
   "metadata": {},
   "source": [
    "## Filter on Non-Treatment vs Treatment Interval"
   ]
  },
  {
   "cell_type": "code",
   "execution_count": null,
   "metadata": {},
   "outputs": [],
   "source": [
    "dfnotreatment =  df[df['Treatment.Indicator'] == False]\n",
    "dfnotreatment = dfnotreatment.drop(columns=['Volume.Range.Start', 'Volume.Range.End', 'Treatment.Indicator'])\n",
    "dfnotreatment"
   ]
  },
  {
   "cell_type": "code",
   "execution_count": null,
   "metadata": {},
   "outputs": [],
   "source": [
    "dftreatment =  df[(df['Treatment.Indicator'] == True)]\n",
    "dftreatment = dftreatment.drop(columns=['Volume.Range.Start', 'Volume.Range.End', 'Treatment.Indicator'])\n",
    "dftreatment"
   ]
  },
  {
   "cell_type": "markdown",
   "metadata": {},
   "source": [
    "## Ensuring Continuity of Treatment Periods in Patient Data"
   ]
  },
  {
   "cell_type": "markdown",
   "metadata": {},
   "source": [
    "### No treatment period"
   ]
  },
  {
   "cell_type": "code",
   "execution_count": null,
   "metadata": {},
   "outputs": [],
   "source": [
    "df = pd.DataFrame(dfnotreatment)\n",
    "df['Case.Date.Start'] = pd.to_datetime(df['Case.Date.Start'])\n",
    "df['Case.Date.End'] = pd.to_datetime(df['Case.Date.End'])\n",
    "\n",
    "# Find missing end dates and add them as new rows ensuring continuity\n",
    "new_rows = []\n",
    "\n",
    "for group_id in df['Group.ID'].unique():\n",
    "    group_df = df[df['Group.ID'] == group_id]\n",
    "    end_dates = group_df['Case.Date.End'].tolist()\n",
    "    start_dates = group_df['Case.Date.Start'].tolist()\n",
    "    \n",
    "    for end_date in end_dates:\n",
    "        if end_date not in start_dates:\n",
    "            volume_end = group_df[group_df['Case.Date.End'] == end_date]['Volume.Mean.End'].values[0]\n",
    "            new_row = {\n",
    "                'Case.Date.Start': end_date,\n",
    "                'Case.Date.End': pd.NaT,  # No end date for the new row\n",
    "                'Volume.Mean.Start': volume_end,\n",
    "                'Volume.Mean.End': pd.NaT,  # No volume end for the new row\n",
    "                'Group.ID': group_id\n",
    "            }\n",
    "            new_rows.append(new_row)\n",
    "\n",
    "# Append new rows to the original DataFrame using pd.concat\n",
    "new_rows_df = pd.DataFrame(new_rows)\n",
    "df = pd.concat([df, new_rows_df], ignore_index=True)\n",
    "\n",
    "# Sort the DataFrame by Group.ID and Start Date\n",
    "dfnt = df.sort_values(by=['Group.ID', 'Case.Date.Start']).reset_index(drop=True)\n",
    "\n",
    "dfnt"
   ]
  },
  {
   "cell_type": "code",
   "execution_count": null,
   "metadata": {},
   "outputs": [],
   "source": [
    "final_dfnotreatment = dfnt[['Group.ID', 'Case.Date.Start', 'Volume.Mean.Start']]\n",
    "final_dfnotreatment"
   ]
  },
  {
   "cell_type": "markdown",
   "metadata": {},
   "source": [
    "### Convert to CSV"
   ]
  },
  {
   "cell_type": "code",
   "execution_count": null,
   "metadata": {},
   "outputs": [],
   "source": [
    "#This csv file will be used in R for the 'tumgr' library\n",
    "final_dfnotreatment.to_csv('grouped_patients_nt_interval_v3.csv', index=False)"
   ]
  },
  {
   "cell_type": "markdown",
   "metadata": {},
   "source": [
    "### Treatment period"
   ]
  },
  {
   "cell_type": "code",
   "execution_count": null,
   "metadata": {},
   "outputs": [],
   "source": [
    "df = pd.DataFrame(dftreatment)\n",
    "df['Case.Date.Start'] = pd.to_datetime(df['Case.Date.Start'])\n",
    "df['Case.Date.End'] = pd.to_datetime(df['Case.Date.End'])\n",
    "\n",
    "# Find missing end dates and add them as new rows\n",
    "new_rows = []\n",
    "\n",
    "for group_id in df['Group.ID'].unique():\n",
    "    group_df = df[df['Group.ID'] == group_id]\n",
    "    end_dates = group_df['Case.Date.End'].tolist()\n",
    "    start_dates = group_df['Case.Date.Start'].tolist()\n",
    "    \n",
    "    for end_date in end_dates:\n",
    "        if end_date not in start_dates:\n",
    "            volume_end = group_df[group_df['Case.Date.End'] == end_date]['Volume.Mean.End'].values[0]\n",
    "            new_row = {\n",
    "                'Case.Date.Start': end_date,\n",
    "                'Case.Date.End': pd.NaT,  # No end date for the new row\n",
    "                'Volume.Mean.Start': volume_end,\n",
    "                'Volume.Mean.End': pd.NaT,  # No volume end for the new row\n",
    "                'Group.ID': group_id\n",
    "            }\n",
    "            new_rows.append(new_row)\n",
    "\n",
    "# Append new rows to the original DataFrame using pd.concat\n",
    "new_rows_df = pd.DataFrame(new_rows)\n",
    "df = pd.concat([df, new_rows_df], ignore_index=True)\n",
    "\n",
    "# Sort the DataFrame by Group.ID and Start Date\n",
    "dft = df.sort_values(by=['Group.ID', 'Case.Date.Start']).reset_index(drop=True)\n",
    "\n",
    "dft"
   ]
  },
  {
   "cell_type": "code",
   "execution_count": null,
   "metadata": {},
   "outputs": [],
   "source": [
    "final_dftreatment = dft[['Group.ID', 'Case.Date.Start', 'Volume.Mean.Start']]\n",
    "final_dftreatment"
   ]
  },
  {
   "cell_type": "code",
   "execution_count": null,
   "metadata": {},
   "outputs": [],
   "source": [
    "# This csv file will be used in R for the 'tumgr' library\n",
    "final_dftreatment.to_csv('grouped_patients_t_interval.csv', index=False)"
   ]
  },
  {
   "cell_type": "markdown",
   "metadata": {},
   "source": [
    "## Tumor Grades"
   ]
  },
  {
   "cell_type": "code",
   "execution_count": null,
   "metadata": {},
   "outputs": [],
   "source": [
    "# Reading in tumor-grades data from the Tumor sheet data\n",
    "tumordata = pd.read_excel('W_23_5814_2024-03-06.xlsx', sheet_name='Tumor')\n",
    "tumorgrades = tumordata[['PATIENTNR', 'TRTU_Morfologie_oms']]\n",
    "\n",
    "# # use anonymization keys to replace patient IDs\n",
    "keys = keys.loc[~(keys['Patient ID'] == '20401820xxx187484')]\n",
    "keys['Patient ID'] = keys['Patient ID'].astype(int)\n",
    "tumorgrades = pd.merge(tumorgrades, keys, left_on='PATIENTNR', right_on='Patient ID', how='left')\n",
    "tumorgrades = tumorgrades.drop(columns=['PATIENTNR', 'Patient ID'])\n",
    "tumorgrades.rename(columns={'Anonymized Name': 'Case.Patient'}, inplace=True)\n",
    "\n",
    "# Split the morfologie column into 'type' and 'tumorgrade'\n",
    "tumorgrades[['type', 'tumorgrade']] = tumorgrades['TRTU_Morfologie_oms'].str.split(', ', expand=True)\n",
    "\n",
    "# Drop the original 'Morfology name' column\n",
    "tumorgrades.drop(columns=['TRTU_Morfologie_oms'], inplace=True)\n",
    "tumorgrades"
   ]
  },
  {
   "cell_type": "markdown",
   "metadata": {},
   "source": [
    "# Growth rates vs Grades - Non-treatment"
   ]
  },
  {
   "cell_type": "code",
   "execution_count": null,
   "metadata": {},
   "outputs": [],
   "source": [
    "# Read in the Analysis data from the 'tumgr' library in R\n",
    "tumorgrowth = pd.read_csv('results_totalliver_nt.csv')\n",
    "\n",
    "# remove rows with no 'g'\n",
    "tumorgrowth = tumorgrowth.dropna(subset=['g'])\n",
    "tumorgrowth"
   ]
  },
  {
   "cell_type": "code",
   "execution_count": null,
   "metadata": {},
   "outputs": [],
   "source": [
    "import matplotlib.pyplot as plt\n",
    "import seaborn as sns\n",
    "\n",
    "# Set the style of the visualization\n",
    "sns.set(style=\"whitegrid\")\n",
    "\n",
    "# Create a histogram with Seaborn\n",
    "plt.figure(figsize=(10, 6))\n",
    "sns.histplot(tumorgrowth['g'], bins=10, kde=True, color='blue', edgecolor='black')\n",
    "\n",
    "# Adding title and labels\n",
    "plt.title('Distribution of Tumor Growth Rates', fontsize=16)\n",
    "plt.xlabel('Tumor Growth Rate', fontsize=14)\n",
    "plt.ylabel('Frequency', fontsize=14)\n",
    "\n",
    "# Show plot\n",
    "plt.show()"
   ]
  },
  {
   "cell_type": "markdown",
   "metadata": {},
   "source": [
    "## Validation: Growth Rates merged with Tumor Grades"
   ]
  },
  {
   "cell_type": "code",
   "execution_count": null,
   "metadata": {},
   "outputs": [],
   "source": [
    "growthrates = dfnotreatment[['Case.Patient', 'Group.ID']].merge(tumorgrowth, left_on='Group.ID', right_on='name', how='left')\n",
    "growthrates = growthrates.drop_duplicates(subset=['Group.ID']).drop(columns=['name', 'N', 'type', 'selectedFit'])\n",
    "growthrates = growthrates.groupby('Case.Patient')[['g', 'd', 'phi']].mean().reset_index()\n",
    "growthrates\n",
    "\n",
    "# # #merging growthrates with the grades\n",
    "gandgrade = growthrates.merge(tumorgrades[['Case.Patient', 'tumorgrade']], on='Case.Patient', how='left')\n",
    "\n",
    "gandgrade = gandgrade.groupby('Case.Patient')[['g', 'd', 'phi']].mean().reset_index().merge(tumorgrades[['Case.Patient', 'tumorgrade']], on='Case.Patient', how='left')\n",
    "# Remove white space from the 'Category' column\n",
    "gandgrade['tumorgrade'] = gandgrade['tumorgrade'].str.strip()\n",
    "\n",
    "# Replace values for graad 3\n",
    "gandgrade['tumorgrade'] = gandgrade['tumorgrade'].replace({'NNO': 'graad 3'})\n",
    "gandgrade"
   ]
  },
  {
   "cell_type": "code",
   "execution_count": null,
   "metadata": {},
   "outputs": [],
   "source": [
    "# Calculate mean for each group\n",
    "mean_by_grade = gandgrade.groupby('tumorgrade')['g'].mean()\n",
    "print(mean_by_grade)\n",
    "\n",
    "# Setting the style of the visualization\n",
    "sns.set(style=\"whitegrid\")\n",
    "\n",
    "# custom color palette\n",
    "palette = {\n",
    "    'graad 1': 'green',\n",
    "    'graad 2': 'orange',\n",
    "    'graad 3': 'red'\n",
    "}\n",
    "\n",
    "# Creating a histogram with Seaborn\n",
    "plt.figure(figsize=(10, 6))\n",
    "sns.histplot(\n",
    "    gandgrade, \n",
    "    x='g', \n",
    "    hue='tumorgrade', \n",
    "    kde=True, \n",
    "    multiple='stack', \n",
    "    bins=10, \n",
    "    edgecolor='black', \n",
    "    palette=palette\n",
    ")\n",
    "\n",
    "# Adding title and labels\n",
    "plt.title('Distribution of Tumor Growth Rates total volume non-treatment interval', fontsize=16)\n",
    "plt.xlabel('Tumor Growth Rate', fontsize=14)\n",
    "plt.ylabel('Number of patients', fontsize=14)\n",
    "\n",
    "plt.show()"
   ]
  },
  {
   "cell_type": "code",
   "execution_count": null,
   "metadata": {},
   "outputs": [],
   "source": [
    "# custom color palette\n",
    "palette = {\n",
    "    'graad 1': 'green',\n",
    "    'graad 2': 'orange',\n",
    "    'graad 3': 'red'\n",
    "}\n",
    "\n",
    "# Creating the boxplot\n",
    "sns.boxplot(data=gandgrade, x='tumorgrade', y='g', palette=palette)\n",
    "\n",
    "# Adding title and labels\n",
    "plt.title('Distribution of Tumor Growth total volume non-treatment interval', fontsize=16)\n",
    "plt.xlabel('Tumor Grade', fontsize=14)\n",
    "plt.ylabel('Tumor Growth Rate', fontsize=14)"
   ]
  },
  {
   "cell_type": "markdown",
   "metadata": {},
   "source": [
    "# Growth rates vs Grades - Treatment Interval"
   ]
  },
  {
   "cell_type": "code",
   "execution_count": null,
   "metadata": {},
   "outputs": [],
   "source": [
    "# Read in the Analysis data from the 'tumgr' library in R\n",
    "tumorgrowth = pd.read_csv('results_patients_t.csv')\n",
    "# tumorgrowth = tumorgrowth[(tumorgrowth['d'].isna()) & (tumorgrowth['phi'].isna())]\n",
    "# tumorgrowth = tumorgrowth.dropna(subset=['g'])\n",
    "tumorgrowth.shape"
   ]
  },
  {
   "cell_type": "code",
   "execution_count": null,
   "metadata": {},
   "outputs": [],
   "source": [
    "growthrates = dftreatment[['Case.Patient', 'Group.ID']].merge(tumorgrowth, left_on='Group.ID', right_on='name', how='left')\n",
    "growthrates = growthrates.drop_duplicates(subset=['Group.ID']).drop(columns=['name', 'N', 'type', 'selectedFit'])\n",
    "growthrates = growthrates.groupby('Case.Patient')[['g', 'd', 'phi']].mean().reset_index()\n",
    "# #merging growthrates with the grades\n",
    "gandgrade = growthrates.merge(tumorgrades[['Case.Patient', 'tumorgrade']], on='Case.Patient', how='left')\n",
    "# Remove white space from the 'Category' column\n",
    "gandgrade['tumorgrade'] = gandgrade['tumorgrade'].str.strip()\n",
    "# Replace values for graad 3\n",
    "gandgrade['tumorgrade'] = gandgrade['tumorgrade'].replace({'NNO': 'graad 3'})\n",
    "gandgrade"
   ]
  },
  {
   "cell_type": "code",
   "execution_count": null,
   "metadata": {},
   "outputs": [],
   "source": [
    "# Calculate mean growth for each group\n",
    "mean_growth_by_grade = gandgrade.groupby('tumorgrade')['g'].mean()\n",
    "print(mean_growth_by_grade)\n",
    "\n",
    "# Set the style of the visualization\n",
    "sns.set(style=\"whitegrid\")\n",
    "\n",
    "# Custom color palette\n",
    "palette = {\n",
    "    'graad 1': 'green',\n",
    "    'graad 2': 'orange',\n",
    "    'graad 3': 'red'\n",
    "}\n",
    "\n",
    "# Create a histogram with Seaborn\n",
    "plt.figure(figsize=(10, 6))\n",
    "sns.histplot(\n",
    "    gandgrade, \n",
    "    x='g', \n",
    "    hue='tumorgrade', \n",
    "    kde=True, \n",
    "    multiple='stack', \n",
    "    bins=10, \n",
    "    edgecolor='black', \n",
    "    palette=palette\n",
    ")\n",
    "\n",
    "# Adding title and labels\n",
    "plt.title('Distribution of Tumor Growth Rates total volume treatment interval', fontsize=16)\n",
    "plt.xlabel('Tumor Growth Rate', fontsize=14)\n",
    "plt.ylabel('Number of patients', fontsize=14)\n",
    "\n",
    "plt.show()\n"
   ]
  },
  {
   "cell_type": "code",
   "execution_count": null,
   "metadata": {},
   "outputs": [],
   "source": [
    "palette = {\n",
    "    'graad 1': 'green',\n",
    "    'graad 2': 'orange',\n",
    "    'graad 3': 'red'\n",
    "}\n",
    "\n",
    "# Create the boxplot\n",
    "sns.boxplot(data=gandgrade, x='tumorgrade', y='g', palette=palette)\n",
    "\n",
    "# Adding title and labels\n",
    "plt.title('Distribution of Tumor Growth total volume treatment interval', fontsize=16)\n",
    "plt.xlabel('Tumor Grade', fontsize=14)\n",
    "plt.ylabel('Tumor Growth Rate', fontsize=14)"
   ]
  },
  {
   "cell_type": "code",
   "execution_count": null,
   "metadata": {},
   "outputs": [],
   "source": [
    "import pandas as pd\n",
    "import seaborn as sns\n",
    "import matplotlib.pyplot as plt\n",
    "\n",
    "# Calculate mean decay for each group\n",
    "mean_growth_by_grade = gandgrade.groupby('tumorgrade')['d'].mean()\n",
    "print(mean_growth_by_grade)\n",
    "\n",
    "# Set the style of the visualization\n",
    "sns.set(style=\"whitegrid\")\n",
    "\n",
    "# custom color palette\n",
    "palette = {\n",
    "    'graad 1': 'green',\n",
    "    'graad 2': 'orange',\n",
    "    'graad 3': 'red'\n",
    "}\n",
    "\n",
    "# Create a histogram with Seaborn\n",
    "plt.figure(figsize=(10, 6))\n",
    "sns.histplot(\n",
    "    gandgrade, \n",
    "    x='d', \n",
    "    hue='tumorgrade', \n",
    "    kde=True, \n",
    "    multiple='stack', \n",
    "    bins=8, \n",
    "    edgecolor='black', \n",
    "    palette=palette\n",
    ")\n",
    "\n",
    "# Adding title and labels\n",
    "plt.title('Distribution of Tumor decay rates for total volume during treatment interval', fontsize=16)\n",
    "plt.xlabel('Tumor Growth Rate', fontsize=14)\n",
    "plt.ylabel('Number of patients', fontsize=14)\n",
    "\n",
    "# Show plot\n",
    "plt.show()\n"
   ]
  },
  {
   "cell_type": "markdown",
   "metadata": {},
   "source": [
    "# Survival Analysis"
   ]
  },
  {
   "cell_type": "code",
   "execution_count": null,
   "metadata": {},
   "outputs": [],
   "source": [
    "# Reading in the growth rate data\n",
    "tumorgrowth = pd.read_csv('results_totalliver_nt.csv')\n",
    "tumorgrowth = tumorgrowth.dropna(subset=['g'])\n",
    "tumorgrowth\n",
    "\n",
    "growthrates = dfnotreatment[['Case.Patient', 'Group.ID']].merge(tumorgrowth, left_on='Group.ID', right_on='name', how='left')\n",
    "growthrates = growthrates.drop_duplicates(subset=['Group.ID']).drop(columns=['name', 'N', 'type', 'selectedFit'])\n",
    "growthrates = growthrates.groupby('Case.Patient')[['g', 'd', 'phi']].mean().reset_index()\n",
    "\n",
    "# #merging growthrates with the grades\n",
    "gandgrade = growthrates.merge(tumorgrades[['Case.Patient', 'tumorgrade']], on='Case.Patient', how='left')\n",
    "# Remove white space from the 'Category' column\n",
    "gandgrade['tumorgrade'] = gandgrade['tumorgrade'].str.strip()\n",
    "# Replace values for graad 3\n",
    "gandgrade['tumorgrade'] = gandgrade['tumorgrade'].replace({'NNO': 'graad 3'})\n",
    "gandgrade"
   ]
  },
  {
   "cell_type": "markdown",
   "metadata": {},
   "source": [
    "### Merging tumor grade data with tumor growth rates"
   ]
  },
  {
   "cell_type": "code",
   "execution_count": null,
   "metadata": {},
   "outputs": [],
   "source": [
    "tumordata = pd.read_excel('W_23_5814_2024-03-06.xlsx', sheet_name='Tumor')\n",
    "# we are interested in the date of diagnosis and last follow up or date or last scan date\n",
    "tumorgrades = tumordata[['PATIENTNR', 'Date_diagnosis (Stefano)', 'HiX_Date_of_death', 'TRTU_Laatste_follow_up_datum'\n",
    ",'TRTU_Patientstatus_bij_laatste_follow_up_oms']]\n",
    "tumorgrades['overleden'] = tumorgrades['TRTU_Patientstatus_bij_laatste_follow_up_oms'].str.contains('overleden', case=False, na=False)\n",
    "\n",
    "# # use anonymization keys to replace patient IDs\n",
    "keys = keys.loc[~(keys['Patient ID'] == '20401820xxx187484')]\n",
    "keys['Patient ID'] = keys['Patient ID'].astype(int)\n",
    "tumorgrades = pd.merge(tumorgrades, keys, left_on='PATIENTNR', right_on='Patient ID', how='left')\n",
    "tumorgrades = tumorgrades.drop(columns=['PATIENTNR', 'Patient ID'])\n",
    "tumorgrades.rename(columns={'Anonymized Name': 'Case.Patient'}, inplace=True)\n",
    "\n",
    "# Drop the original 'full_name' column if you no longer need it\n",
    "# tumorgrades.drop(columns=['TRTU_Morfologie_oms'], inplace=True)\n",
    "gradesdeath = gandgrade.merge(tumorgrades, on='Case.Patient')\n",
    "gradesdeath = gradesdeath.merge(last_check_up_dates, on='Case.Patient')\n",
    "gradesdeath['end_date'] = gradesdeath['HiX_Date_of_death'].combine_first(gradesdeath['TRTU_Laatste_follow_up_datum'])\n",
    "gradesdeath['end_date'] = gradesdeath['end_date'].combine_first(gradesdeath['Case.Date'])\n",
    "gradesdeath"
   ]
  },
  {
   "cell_type": "code",
   "execution_count": null,
   "metadata": {},
   "outputs": [],
   "source": [
    "# Checking if there is a patient with no end date\n",
    "gradesdeath[gradesdeath['end_date'].isna() == True]"
   ]
  },
  {
   "cell_type": "markdown",
   "metadata": {},
   "source": [
    "### Kaplan Meier Fitter + validation using pairwise log rank test"
   ]
  },
  {
   "cell_type": "code",
   "execution_count": null,
   "metadata": {},
   "outputs": [],
   "source": [
    "from lifelines import KaplanMeierFitter\n",
    "from lifelines.statistics import pairwise_logrank_test\n",
    "\n",
    "# Prepare data for Kaplan-Meier estimator for each treatment group\n",
    "kmf = KaplanMeierFitter()\n",
    "\n",
    "# Define color mapping for each grade\n",
    "color_map = {'graad 1': 'green', 'graad 2': 'orange', 'graad 3': 'red'}\n",
    "\n",
    "# Plot the Kaplan-Meier curves\n",
    "for treatment_group in gradesdeath['tumorgrade'].unique():\n",
    "    treatment_data = gradesdeath[gradesdeath['tumorgrade'] == treatment_group]\n",
    "    print(\"Treatment Group:\", treatment_group)\n",
    "    print(\"Data Length:\", len(treatment_data))\n",
    "    \n",
    "    if len(treatment_data) > 0:\n",
    "        durations = (treatment_data['end_date'] - treatment_data['Date_diagnosis (Stefano)']).dt.days\n",
    "        event_observed = treatment_data['overleden']\n",
    "        \n",
    "        kmf.fit(durations=durations, event_observed=event_observed, label=treatment_group)\n",
    "        kmf.plot(color=color_map[treatment_group])\n",
    "    else:\n",
    "        print(\"No data available for this treatment group.\")\n",
    "\n",
    "# Plot settings\n",
    "plt.title('Kaplan-Meier Overall Survival Curve by Tumor Grade')\n",
    "plt.xlabel('Time (days)')\n",
    "plt.ylabel('Survival Probability')\n",
    "plt.grid(True)\n",
    "plt.legend(title='Tumor Grade')\n",
    "plt.show()\n",
    "\n",
    "# Prepare data for pairwise log-rank test\n",
    "durations = (gradesdeath['end_date'] - gradesdeath['Date_diagnosis (Stefano)']).dt.days\n",
    "event_observed = gradesdeath['overleden']\n",
    "groups = gradesdeath['tumorgrade'].astype(str)  # Ensure all entries are strings\n",
    "\n",
    "# Perform pairwise log-rank test\n",
    "results = pairwise_logrank_test(durations, groups, event_observed)\n",
    "print(\"Pairwise Log-Rank Test Results:\")\n",
    "results.print_summary()\n"
   ]
  }
 ],
 "metadata": {
  "kernelspec": {
   "display_name": "base",
   "language": "python",
   "name": "python3"
  },
  "language_info": {
   "codemirror_mode": {
    "name": "ipython",
    "version": 3
   },
   "file_extension": ".py",
   "mimetype": "text/x-python",
   "name": "python",
   "nbconvert_exporter": "python",
   "pygments_lexer": "ipython3",
   "version": "3.11.8"
  }
 },
 "nbformat": 4,
 "nbformat_minor": 2
}
